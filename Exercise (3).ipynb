{
 "cells": [
  {
   "cell_type": "markdown",
   "metadata": {},
   "source": [
    "## Grayscaling\n",
    "\n",
    "#### Grayscaling is process by which an image is converted from a full color to shades of grey (black & white)\n",
    "\n",
    "In OpenCV, many functions grayscale images before processing. This is done because it simplifies the image, acting almost as a noise reduction and increasing processing time as there is less information in the image.\n",
    "\n",
    "### Let convert our color image to greyscale"
   ]
  },
  {
   "cell_type": "code",
   "execution_count": 13,
   "metadata": {
    "collapsed": false
   },
   "outputs": [
    {
     "name": "stdout",
     "output_type": "stream",
     "text": [
      "(212L, 269L)\n"
     ]
    }
   ],
   "source": [
    "import cv2\n",
    "import numpy as np\n",
    "from skimage import data,util\n",
    "from skimage.measure import label,regionprops\n",
    "# Load our input image\n",
    "image = cv2.imread('./images/test6.jpg')\n",
    "#cv2.imshow('Original', image)\n",
    "#cv2.waitKey()\n",
    "\n",
    "# We use cvtColor, to convert to grayscale\n",
    "gray_image = cv2.cvtColor(image, cv2.COLOR_BGR2GRAY)\n",
    "\n",
    "\n",
    "cv2.imshow('Grayscale', gray_image)\n",
    "\n",
    "print(gray_image.shape)\n",
    "\n",
    "u,sigma,vt=np.linalg.svd(gray_image)\n",
    "sig3=np.mat([[sigma[0],0,0],[0,sigma[1],0],[0,0,sigma[2]]])\n",
    "gray_image = u[:,:3]*sig3*vt[:3,:]\n",
    "cv2.imshow('Grayscale2', gray_image)\n",
    "cv2.waitKey()\n",
    "cv2.destroyAllWindows()"
   ]
  },
  {
   "cell_type": "code",
   "execution_count": 9,
   "metadata": {
    "collapsed": false
   },
   "outputs": [
    {
     "name": "stdout",
     "output_type": "stream",
     "text": [
      "(212L, 269L)\n"
     ]
    }
   ],
   "source": [
    "#Another method faster method\n",
    "#img = cv2.imread('./images/test3.jpg',0)\n",
    "\n",
    "#cv2.imshow('Grayscale', img)\n",
    "\n",
    "\n",
    "gray_image2 = gray_image.astype(int)\n",
    "cv2.imshow('Grayscale2', gray_image2)\n",
    "\n",
    "print(gray_image2.shape)\n",
    "#gray_image[0:10]\n",
    "#gray_image2[0:10]\n",
    "cv2.waitKey()\n",
    "cv2.destroyAllWindows()"
   ]
  },
  {
   "cell_type": "markdown",
   "metadata": {},
   "source": []
  }
 ],
 "metadata": {
  "kernelspec": {
   "display_name": "Python 2",
   "language": "python",
   "name": "python2"
  },
  "language_info": {
   "codemirror_mode": {
    "name": "ipython",
    "version": 2
   },
   "file_extension": ".py",
   "mimetype": "text/x-python",
   "name": "python",
   "nbconvert_exporter": "python",
   "pygments_lexer": "ipython2",
   "version": "2.7.13"
  }
 },
 "nbformat": 4,
 "nbformat_minor": 0
}
